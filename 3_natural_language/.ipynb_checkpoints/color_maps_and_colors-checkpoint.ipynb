{
 "cells": [
  {
   "cell_type": "markdown",
   "metadata": {},
   "source": [
    "### Choosing colors and colormaps\n",
    "\n",
    "- [Colormaps](https://matplotlib.org/3.2.1/tutorials/colors/colormaps.html)\n",
    "- [Colors](https://matplotlib.org/3.1.0/_images/sphx_glr_named_colors_003.png)"
   ]
  },
  {
   "cell_type": "markdown",
   "metadata": {},
   "source": [
    "#### Colors\n",
    "\n",
    "<img src=\"https://matplotlib.org/3.1.0/_images/sphx_glr_named_colors_003.png\" alt=\"drawing\" width=\"500\"/>\n",
    "\n",
    "#### Colormaps\n",
    "\n",
    "<img src=\"https://matplotlib.org/3.2.1/_images/sphx_glr_colormaps_001.png\" alt=\"drawing\" width=\"500\"/>\n",
    "\n",
    "<img src=\"https://matplotlib.org/3.2.1/_images/sphx_glr_colormaps_002.png\" alt=\"drawing\" width=\"500\"/>\n",
    "\n",
    "<img src=\"https://matplotlib.org/3.2.1/_images/sphx_glr_colormaps_003.png\" alt=\"drawing\" width=\"500\"/>\n",
    "\n",
    "<img src=\"https://matplotlib.org/3.2.1/_images/sphx_glr_colormaps_004.png\" alt=\"drawing\" width=\"500\"/>\n",
    "\n",
    "<img src=\"https://matplotlib.org/3.2.1/_images/sphx_glr_colormaps_005.png\" alt=\"drawing\" width=\"500\"/>\n",
    "\n",
    "<img src=\"https://matplotlib.org/3.2.1/_images/sphx_glr_colormaps_006.png\" alt=\"drawing\" width=\"500\"/>\n",
    "\n",
    "<img src=\"https://matplotlib.org/3.2.1/_images/sphx_glr_colormaps_007.png\" alt=\"drawing\" width=\"500\"/>"
   ]
  }
 ],
 "metadata": {
  "kernelspec": {
   "display_name": "Python 3",
   "language": "python3",
   "name": "python3"
  },
  "language_info": {
   "codemirror_mode": {
    "name": "ipython",
    "version": 3
   },
   "file_extension": ".py",
   "mimetype": "text/x-python",
   "name": "python",
   "nbconvert_exporter": "python",
   "pygments_lexer": "ipython3",
   "version": "3.7.4"
  }
 },
 "nbformat": 4,
 "nbformat_minor": 2
}
