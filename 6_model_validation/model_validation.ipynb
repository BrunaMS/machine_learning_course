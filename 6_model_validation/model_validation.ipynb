{
 "cells": [
  {
   "cell_type": "markdown",
   "metadata": {},
   "source": [
    "## 1st Class: Cross validation and initial randomness\n",
    "\n",
    "> Date: June 30, 2020\n",
    "\n",
    "- **Holdout:** Technique where we separate train and test data.\n",
    "- **Cross validation:** Technique used to enrich the data usage, seizing all data in both, train and test."
   ]
  },
  {
   "cell_type": "markdown",
   "metadata": {},
   "source": [
    "### Fourth project of the first class ([1_introduction_to_the_classification_with_SKLearn](https://github.com/BrunaMS/machine_learning_course/blob/master/1_introduction_to_the_classification_with_SKLearn/5.%20The%20fourth%20project.ipynb))\n",
    "\n",
    "In this project, I made a project to verify if, with a defined price, the car model and its age, one person would sell his/her automobile, making a prediction about the sale and if is or not likely that it'll be sold."
   ]
  },
  {
   "cell_type": "code",
   "execution_count": 3,
   "metadata": {},
   "outputs": [
    {
     "data": {
      "text/html": [
       "<div>\n",
       "<style scoped>\n",
       "    .dataframe tbody tr th:only-of-type {\n",
       "        vertical-align: middle;\n",
       "    }\n",
       "\n",
       "    .dataframe tbody tr th {\n",
       "        vertical-align: top;\n",
       "    }\n",
       "\n",
       "    .dataframe thead th {\n",
       "        text-align: right;\n",
       "    }\n",
       "</style>\n",
       "<table border=\"1\" class=\"dataframe\">\n",
       "  <thead>\n",
       "    <tr style=\"text-align: right;\">\n",
       "      <th></th>\n",
       "      <th>price</th>\n",
       "      <th>sold</th>\n",
       "      <th>model_age</th>\n",
       "      <th>km_per_year</th>\n",
       "    </tr>\n",
       "  </thead>\n",
       "  <tbody>\n",
       "    <tr>\n",
       "      <td>0</td>\n",
       "      <td>30941.02</td>\n",
       "      <td>1</td>\n",
       "      <td>20</td>\n",
       "      <td>35085.22134</td>\n",
       "    </tr>\n",
       "    <tr>\n",
       "      <td>1</td>\n",
       "      <td>40557.96</td>\n",
       "      <td>1</td>\n",
       "      <td>22</td>\n",
       "      <td>12622.05362</td>\n",
       "    </tr>\n",
       "    <tr>\n",
       "      <td>2</td>\n",
       "      <td>89627.50</td>\n",
       "      <td>0</td>\n",
       "      <td>14</td>\n",
       "      <td>11440.79806</td>\n",
       "    </tr>\n",
       "    <tr>\n",
       "      <td>3</td>\n",
       "      <td>95276.14</td>\n",
       "      <td>0</td>\n",
       "      <td>5</td>\n",
       "      <td>43167.32682</td>\n",
       "    </tr>\n",
       "    <tr>\n",
       "      <td>4</td>\n",
       "      <td>117384.68</td>\n",
       "      <td>1</td>\n",
       "      <td>6</td>\n",
       "      <td>12770.11290</td>\n",
       "    </tr>\n",
       "  </tbody>\n",
       "</table>\n",
       "</div>"
      ],
      "text/plain": [
       "       price  sold  model_age  km_per_year\n",
       "0   30941.02     1         20  35085.22134\n",
       "1   40557.96     1         22  12622.05362\n",
       "2   89627.50     0         14  11440.79806\n",
       "3   95276.14     0          5  43167.32682\n",
       "4  117384.68     1          6  12770.11290"
      ]
     },
     "execution_count": 3,
     "metadata": {},
     "output_type": "execute_result"
    }
   ],
   "source": [
    "import pandas as pd\n",
    "from datetime import datetime\n",
    "uri = \"https://gist.githubusercontent.com/guilhermesilveira/4d1d4a16ccbf6ea4e0a64a38a24ec884/raw/afd05cb0c796d18f3f5a6537053ded308ba94bf7/car-prices.csv\"\n",
    "data = pd.read_csv(uri)\n",
    "\n",
    "sold_change = {\n",
    "    'yes' : 1,\n",
    "    'no'  : 0\n",
    "}\n",
    "\n",
    "current_year = datetime.today().year\n",
    "data['model_age'] = current_year - data.model_year \n",
    "data['km_per_year'] = data.mileage_per_year * 1.60934 \n",
    "data.sold = data.sold.map(sold_change)\n",
    "data = data.drop(columns = ['Unnamed: 0', 'mileage_per_year', 'model_year'], axis=1) # Axis: 1 - Column, 0 - Row\n",
    "data.head()"
   ]
  },
  {
   "cell_type": "code",
   "execution_count": 4,
   "metadata": {},
   "outputs": [
    {
     "name": "stdout",
     "output_type": "stream",
     "text": [
      "The accuracy of Dummy algorithm is 51.68% \n"
     ]
    }
   ],
   "source": [
    "from sklearn.svm import SVC\n",
    "from sklearn.model_selection import train_test_split\n",
    "from sklearn.metrics import accuracy_score\n",
    "from sklearn.preprocessing import  StandardScaler\n",
    "from sklearn.dummy import DummyClassifier\n",
    "import numpy as np\n",
    "\n",
    "x = data[['model_age', 'price', 'km_per_year']]\n",
    "y = data['sold']\n",
    "\n",
    "SEED = 15\n",
    "np.random.seed(SEED)\n",
    "raw_train_x, raw_test_x, train_y, test_y = train_test_split(x, y, random_state = SEED, test_size = 0.25, stratify = y)\n",
    "\n",
    "# Baseline (default - stratified)\n",
    "dummy = DummyClassifier()\n",
    "dummy.fit(raw_train_x, train_y)\n",
    "predictions = dummy.predict(raw_test_x)\n",
    "accuracy = dummy.score(test_y, predictions)\n",
    "print(\"The accuracy of Dummy algorithm is %.2f%% \" % (accuracy*100))"
   ]
  },
  {
   "cell_type": "code",
   "execution_count": 5,
   "metadata": {},
   "outputs": [
    {
     "name": "stdout",
     "output_type": "stream",
     "text": [
      "The accuracy of this algorithm is 77.20% \n"
     ]
    }
   ],
   "source": [
    "scaler = StandardScaler()\n",
    "scaler.fit(raw_train_x)\n",
    "train_x = scaler.transform(raw_train_x)\n",
    "test_x = scaler.transform(raw_test_x)\n",
    "\n",
    "# Using SVC\n",
    "model = SVC()\n",
    "model.fit(train_x, train_y)\n",
    "predictions = model.predict(test_x)\n",
    "\n",
    "accuracy = accuracy_score(test_y, predictions)\n",
    "print(\"The accuracy of this algorithm is %.2f%% \" % (accuracy*100))"
   ]
  },
  {
   "cell_type": "code",
   "execution_count": 6,
   "metadata": {},
   "outputs": [
    {
     "name": "stdout",
     "output_type": "stream",
     "text": [
      "The accuracy of this algorithm is 79.68% \n"
     ]
    }
   ],
   "source": [
    "## Decision trees\n",
    "## Classifiers that can show to us reasons to the taken decisions.\n",
    "\n",
    "from sklearn.tree import DecisionTreeClassifier\n",
    "\n",
    "raw_train_x, raw_test_x, train_y, test_y = train_test_split(x, y, random_state = SEED, test_size = 0.25, stratify = y)\n",
    "\n",
    "# Using a decision tree machine  \n",
    "# The argument max_depth is used to define de max size of the thee\n",
    "tree_model = DecisionTreeClassifier(max_depth = 3)\n",
    "tree_model.fit(raw_train_x, train_y)\n",
    "predictions = tree_model.predict(raw_test_x)\n",
    "\n",
    "accuracy = accuracy_score(test_y, predictions)\n",
    "print(\"The accuracy of this algorithm is %.2f%% \" % (accuracy*100))"
   ]
  },
  {
   "cell_type": "markdown",
   "metadata": {},
   "source": [
    "### Continuation of the project with cross validation\n",
    "\n",
    "> There are same pappers saying that a cross validation between 5 and 10  is the best way to use this tool."
   ]
  },
  {
   "cell_type": "code",
   "execution_count": 7,
   "metadata": {},
   "outputs": [],
   "source": [
    "# Import cross_validate\n",
    "# Define the model\n",
    "# Use cross validate with cv = 3\n",
    "# Print results\n",
    "# Remove train score of results\n",
    "# Print test_score\n",
    "# Remember to define always the same SEED\n",
    "# Print mean with +/- standard deviation (std)"
   ]
  },
  {
   "cell_type": "code",
   "execution_count": 8,
   "metadata": {},
   "outputs": [],
   "source": [
    "import pandas as pd\n",
    "from datetime import datetime\n",
    "\n",
    "\n",
    "uri = \"https://gist.githubusercontent.com/guilhermesilveira/4d1d4a16ccbf6ea4e0a64a38a24ec884/raw/afd05cb0c796d18f3f5a6537053ded308ba94bf7/car-prices.csv\"\n",
    "data = pd.read_csv(uri)\n",
    "\n",
    "sold_change = {\n",
    "    'yes' : 1,\n",
    "    'no'  : 0\n",
    "}\n",
    "\n",
    "current_year = datetime.today().year\n",
    "data['model_age'] = current_year - data.model_year \n",
    "data['km_per_year'] = data.mileage_per_year * 1.60934 \n",
    "data.sold = data.sold.map(sold_change)\n",
    "data = data.drop(columns = ['Unnamed: 0', 'mileage_per_year'], axis=1) # Axis: 1 - Column, 0 - Row"
   ]
  },
  {
   "cell_type": "code",
   "execution_count": 9,
   "metadata": {},
   "outputs": [
    {
     "data": {
      "text/plain": [
       "{'fit_time': array([0.0070405 , 0.00744343, 0.00708842, 0.00762439, 0.0085907 ]),\n",
       " 'score_time': array([0.00161099, 0.0014832 , 0.00176764, 0.00242233, 0.00148773]),\n",
       " 'test_score': array([0.756 , 0.7565, 0.7625, 0.7545, 0.7595])}"
      ]
     },
     "execution_count": 9,
     "metadata": {},
     "output_type": "execute_result"
    }
   ],
   "source": [
    "from sklearn.model_selection import cross_validate\n",
    "from sklearn.tree import DecisionTreeClassifier\n",
    "\n",
    "SEED = 52\n",
    "np.random.seed(SEED)\n",
    "\n",
    "x = data[['model_age', 'price', 'km_per_year']]\n",
    "y = data['sold']\n",
    "\n",
    "\n",
    "tree_model = DecisionTreeClassifier(max_depth = 2)\n",
    "result = cross_validate(tree_model, x, y, cv = 5)\n",
    "result"
   ]
  },
  {
   "cell_type": "code",
   "execution_count": 10,
   "metadata": {},
   "outputs": [
    {
     "name": "stdout",
     "output_type": "stream",
     "text": [
      "Test Score:  [0.756  0.7565 0.7625 0.7545 0.7595]\n",
      "Test accuracy gap: between 75.49 - 76.07\n"
     ]
    }
   ],
   "source": [
    "print('Test Score: ', result['test_score'])\n",
    "accuracy_mean = result['test_score'].mean()\n",
    "accuracy_std = result['test_score'].std()\n",
    "print('Test accuracy gap: between %.2f - %.2f' % (100 * (accuracy_mean - accuracy_std), 100 * (accuracy_mean + accuracy_std)))"
   ]
  },
  {
   "cell_type": "markdown",
   "metadata": {},
   "source": [
    "> At this moment, the seed is not influencing the test score, only times are changing when run the code again"
   ]
  },
  {
   "cell_type": "markdown",
   "metadata": {},
   "source": [
    "## 2nd Class: Kfold with randomization\n",
    "\n",
    "> Date: July 01, 2020\n",
    "\n",
    "Now, we can see that your data is been better used, sharing data between train and test and using all results to do an mean of the results, what give us more accurated and reliable outcome.\n",
    "\n",
    "However, if we considerate that the data can be sorted by an caracteristic (like price, size, year etc.), maybe the result would be better if we mix before, ensuring that the result won't be influenced by anything.\n",
    "\n",
    "- **[KFold:](https://scikit-learn.org/stable/modules/generated/sklearn.model_selection.KFold.html)** "
   ]
  },
  {
   "cell_type": "code",
   "execution_count": 13,
   "metadata": {},
   "outputs": [],
   "source": [
    "# Create a cv with KFold (sklearn.model_selection)\n",
    "# Create a function to print results\n",
    "    # Print result, average and interval with +/- standard validation\n",
    "# Set shuffle = True"
   ]
  },
  {
   "cell_type": "code",
   "execution_count": 19,
   "metadata": {},
   "outputs": [],
   "source": [
    "def print_results(result):\n",
    "    print('Raw result: ', result)\n",
    "    print('\\n----------\\nTest Score: ', result['test_score'])\n",
    "    accuracy_mean = result['test_score'].mean()\n",
    "    accuracy_std = result['test_score'].std()\n",
    "    print('Test accuracy gap: [%.2f - %.2f]' % (100 * (accuracy_mean - accuracy_std), 100 * (accuracy_mean + accuracy_std)))"
   ]
  },
  {
   "cell_type": "code",
   "execution_count": 20,
   "metadata": {},
   "outputs": [
    {
     "name": "stdout",
     "output_type": "stream",
     "text": [
      "Raw result:  {'fit_time': array([0.01184726, 0.01076722, 0.01069117, 0.00719309, 0.00694585,\n",
      "       0.00709772, 0.00714231, 0.00706124, 0.00690794, 0.00687838]), 'score_time': array([0.00228834, 0.00333953, 0.00114036, 0.00126863, 0.00117087,\n",
      "       0.00118685, 0.00115418, 0.001122  , 0.00111222, 0.00111079]), 'test_score': array([0.744, 0.744, 0.734, 0.756, 0.747, 0.785, 0.771, 0.746, 0.759,\n",
      "       0.792])}\n",
      "\n",
      "----------\n",
      "Test Score:  [0.744 0.744 0.734 0.756 0.747 0.785 0.771 0.746 0.759 0.792]\n",
      "Test accuracy gap: [73.97 - 77.59]\n"
     ]
    }
   ],
   "source": [
    "from sklearn.model_selection import KFold\n",
    "\n",
    "cross_val = KFold(n_splits = 10, shuffle = True, random_state = SEED)\n",
    "result = cross_validate(tree_model, x, y, cv = cross_val)\n",
    "print_results(result)"
   ]
  },
  {
   "cell_type": "code",
   "execution_count": null,
   "metadata": {},
   "outputs": [],
   "source": []
  }
 ],
 "metadata": {
  "kernelspec": {
   "display_name": "Python 3",
   "language": "python3",
   "name": "python3"
  },
  "language_info": {
   "codemirror_mode": {
    "name": "ipython",
    "version": 3
   },
   "file_extension": ".py",
   "mimetype": "text/x-python",
   "name": "python",
   "nbconvert_exporter": "python",
   "pygments_lexer": "ipython3",
   "version": "3.7.4"
  }
 },
 "nbformat": 4,
 "nbformat_minor": 2
}
