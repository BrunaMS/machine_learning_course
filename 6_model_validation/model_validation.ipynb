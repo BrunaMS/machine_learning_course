{
 "cells": [
  {
   "cell_type": "markdown",
   "metadata": {},
   "source": [
    "## 1st Class: Cross validation and initial randomness\n",
    "\n",
    "> Date: June 30, 2020\n",
    "\n",
    "- **Holdout:** Technique where we separate train and test data.\n",
    "- **Cross validation:** Technique used to enrich the data usage, seizing all data in both, train and test."
   ]
  },
  {
   "cell_type": "markdown",
   "metadata": {},
   "source": [
    "### Fourth project of the first class ([1_introduction_to_the_classification_with_SKLearn](https://github.com/BrunaMS/machine_learning_course/blob/master/1_introduction_to_the_classification_with_SKLearn/5.%20The%20fourth%20project.ipynb))\n",
    "\n",
    "In this project, I made a project to verify if, with a defined price, the car model and its age, one person would sell his/her automobile, making a prediction about the sale and if is or not likely that it'll be sold."
   ]
  },
  {
   "cell_type": "code",
   "execution_count": 1,
   "metadata": {},
   "outputs": [
    {
     "data": {
      "text/html": [
       "<div>\n",
       "<style scoped>\n",
       "    .dataframe tbody tr th:only-of-type {\n",
       "        vertical-align: middle;\n",
       "    }\n",
       "\n",
       "    .dataframe tbody tr th {\n",
       "        vertical-align: top;\n",
       "    }\n",
       "\n",
       "    .dataframe thead th {\n",
       "        text-align: right;\n",
       "    }\n",
       "</style>\n",
       "<table border=\"1\" class=\"dataframe\">\n",
       "  <thead>\n",
       "    <tr style=\"text-align: right;\">\n",
       "      <th></th>\n",
       "      <th>price</th>\n",
       "      <th>sold</th>\n",
       "      <th>model_age</th>\n",
       "      <th>km_per_year</th>\n",
       "    </tr>\n",
       "  </thead>\n",
       "  <tbody>\n",
       "    <tr>\n",
       "      <td>0</td>\n",
       "      <td>30941.02</td>\n",
       "      <td>1</td>\n",
       "      <td>20</td>\n",
       "      <td>35085.22134</td>\n",
       "    </tr>\n",
       "    <tr>\n",
       "      <td>1</td>\n",
       "      <td>40557.96</td>\n",
       "      <td>1</td>\n",
       "      <td>22</td>\n",
       "      <td>12622.05362</td>\n",
       "    </tr>\n",
       "    <tr>\n",
       "      <td>2</td>\n",
       "      <td>89627.50</td>\n",
       "      <td>0</td>\n",
       "      <td>14</td>\n",
       "      <td>11440.79806</td>\n",
       "    </tr>\n",
       "    <tr>\n",
       "      <td>3</td>\n",
       "      <td>95276.14</td>\n",
       "      <td>0</td>\n",
       "      <td>5</td>\n",
       "      <td>43167.32682</td>\n",
       "    </tr>\n",
       "    <tr>\n",
       "      <td>4</td>\n",
       "      <td>117384.68</td>\n",
       "      <td>1</td>\n",
       "      <td>6</td>\n",
       "      <td>12770.11290</td>\n",
       "    </tr>\n",
       "  </tbody>\n",
       "</table>\n",
       "</div>"
      ],
      "text/plain": [
       "       price  sold  model_age  km_per_year\n",
       "0   30941.02     1         20  35085.22134\n",
       "1   40557.96     1         22  12622.05362\n",
       "2   89627.50     0         14  11440.79806\n",
       "3   95276.14     0          5  43167.32682\n",
       "4  117384.68     1          6  12770.11290"
      ]
     },
     "execution_count": 1,
     "metadata": {},
     "output_type": "execute_result"
    }
   ],
   "source": [
    "import pandas as pd\n",
    "from datetime import datetime\n",
    "uri = \"https://gist.githubusercontent.com/guilhermesilveira/4d1d4a16ccbf6ea4e0a64a38a24ec884/raw/afd05cb0c796d18f3f5a6537053ded308ba94bf7/car-prices.csv\"\n",
    "data = pd.read_csv(uri)\n",
    "\n",
    "sold_change = {\n",
    "    'yes' : 1,\n",
    "    'no'  : 0\n",
    "}\n",
    "\n",
    "current_year = datetime.today().year\n",
    "data['model_age'] = current_year - data.model_year \n",
    "data['km_per_year'] = data.mileage_per_year * 1.60934 \n",
    "data.sold = data.sold.map(sold_change)\n",
    "data = data.drop(columns = ['Unnamed: 0', 'mileage_per_year', 'model_year'], axis=1) # Axis: 1 - Column, 0 - Row\n",
    "data.head()"
   ]
  },
  {
   "cell_type": "code",
   "execution_count": 2,
   "metadata": {},
   "outputs": [
    {
     "name": "stdout",
     "output_type": "stream",
     "text": [
      "The accuracy of Dummy algorithm is 51.68% \n"
     ]
    }
   ],
   "source": [
    "from sklearn.svm import SVC\n",
    "from sklearn.model_selection import train_test_split\n",
    "from sklearn.metrics import accuracy_score\n",
    "from sklearn.preprocessing import  StandardScaler\n",
    "from sklearn.dummy import DummyClassifier\n",
    "import numpy as np\n",
    "\n",
    "x = data[['model_age', 'price', 'km_per_year']]\n",
    "y = data['sold']\n",
    "\n",
    "SEED = 15\n",
    "np.random.seed(SEED)\n",
    "raw_train_x, raw_test_x, train_y, test_y = train_test_split(x, y, random_state = SEED, test_size = 0.25, stratify = y)\n",
    "\n",
    "# Baseline (default - stratified)\n",
    "dummy = DummyClassifier()\n",
    "dummy.fit(raw_train_x, train_y)\n",
    "predictions = dummy.predict(raw_test_x)\n",
    "accuracy = dummy.score(test_y, predictions)\n",
    "print(\"The accuracy of Dummy algorithm is %.2f%% \" % (accuracy*100))"
   ]
  },
  {
   "cell_type": "code",
   "execution_count": 3,
   "metadata": {},
   "outputs": [
    {
     "name": "stdout",
     "output_type": "stream",
     "text": [
      "The accuracy of this algorithm is 77.20% \n"
     ]
    }
   ],
   "source": [
    "scaler = StandardScaler()\n",
    "scaler.fit(raw_train_x)\n",
    "train_x = scaler.transform(raw_train_x)\n",
    "test_x = scaler.transform(raw_test_x)\n",
    "\n",
    "# Using SVC\n",
    "model = SVC()\n",
    "model.fit(train_x, train_y)\n",
    "predictions = model.predict(test_x)\n",
    "\n",
    "accuracy = accuracy_score(test_y, predictions)\n",
    "print(\"The accuracy of this algorithm is %.2f%% \" % (accuracy*100))"
   ]
  },
  {
   "cell_type": "code",
   "execution_count": 4,
   "metadata": {},
   "outputs": [
    {
     "name": "stdout",
     "output_type": "stream",
     "text": [
      "The accuracy of this algorithm is 79.68% \n"
     ]
    }
   ],
   "source": [
    "## Decision trees\n",
    "## Classifiers that can show to us reasons to the taken decisions.\n",
    "\n",
    "from sklearn.tree import DecisionTreeClassifier\n",
    "\n",
    "raw_train_x, raw_test_x, train_y, test_y = train_test_split(x, y, random_state = SEED, test_size = 0.25, stratify = y)\n",
    "\n",
    "# Using a decision tree machine  \n",
    "# The argument max_depth is used to define de max size of the thee\n",
    "tree_model = DecisionTreeClassifier(max_depth = 3)\n",
    "tree_model.fit(raw_train_x, train_y)\n",
    "predictions = tree_model.predict(raw_test_x)\n",
    "\n",
    "accuracy = accuracy_score(test_y, predictions)\n",
    "print(\"The accuracy of this algorithm is %.2f%% \" % (accuracy*100))"
   ]
  },
  {
   "cell_type": "markdown",
   "metadata": {},
   "source": [
    "### Continuation of the project with cross validation\n",
    "\n",
    "> There are same pappers saying that a cross validation between 5 and 10  is the best way to use this tool."
   ]
  },
  {
   "cell_type": "code",
   "execution_count": 5,
   "metadata": {},
   "outputs": [],
   "source": [
    "# Import cross_validate\n",
    "# Define the model\n",
    "# Use cross validate with cv = 3\n",
    "# Print results\n",
    "# Remove train score of results\n",
    "# Print test_score\n",
    "# Remember to define always the same SEED\n",
    "# Print mean with +/- standard deviation (std)"
   ]
  },
  {
   "cell_type": "code",
   "execution_count": 6,
   "metadata": {},
   "outputs": [],
   "source": [
    "import pandas as pd\n",
    "from datetime import datetime\n",
    "\n",
    "\n",
    "uri = \"https://gist.githubusercontent.com/guilhermesilveira/4d1d4a16ccbf6ea4e0a64a38a24ec884/raw/afd05cb0c796d18f3f5a6537053ded308ba94bf7/car-prices.csv\"\n",
    "data = pd.read_csv(uri)\n",
    "\n",
    "sold_change = {\n",
    "    'yes' : 1,\n",
    "    'no'  : 0\n",
    "}\n",
    "\n",
    "current_year = datetime.today().year\n",
    "data['model_age'] = current_year - data.model_year \n",
    "data['km_per_year'] = data.mileage_per_year * 1.60934 \n",
    "data.sold = data.sold.map(sold_change)\n",
    "data = data.drop(columns = ['Unnamed: 0', 'mileage_per_year'], axis=1) # Axis: 1 - Column, 0 - Row"
   ]
  },
  {
   "cell_type": "code",
   "execution_count": 7,
   "metadata": {},
   "outputs": [
    {
     "data": {
      "text/plain": [
       "{'fit_time': array([0.01257825, 0.00886154, 0.00890112, 0.00751424, 0.00665474]),\n",
       " 'score_time': array([0.00297451, 0.00137329, 0.00144005, 0.00257587, 0.00135517]),\n",
       " 'test_score': array([0.756 , 0.7565, 0.7625, 0.7545, 0.7595])}"
      ]
     },
     "execution_count": 7,
     "metadata": {},
     "output_type": "execute_result"
    }
   ],
   "source": [
    "from sklearn.model_selection import cross_validate\n",
    "from sklearn.tree import DecisionTreeClassifier\n",
    "\n",
    "SEED = 25\n",
    "np.random.seed(SEED)\n",
    "\n",
    "x = data[['model_age', 'price', 'km_per_year']]\n",
    "y = data['sold']\n",
    "\n",
    "\n",
    "tree_model = DecisionTreeClassifier(max_depth = 2)\n",
    "result = cross_validate(tree_model, x, y, cv = 5)\n",
    "result"
   ]
  },
  {
   "cell_type": "code",
   "execution_count": 8,
   "metadata": {},
   "outputs": [
    {
     "name": "stdout",
     "output_type": "stream",
     "text": [
      "Test Score:  [0.756  0.7565 0.7625 0.7545 0.7595]\n",
      "Test accuracy gap: between 75.49 - 76.07\n"
     ]
    }
   ],
   "source": [
    "print('Test Score: ', result['test_score'])\n",
    "accuracy_mean = result['test_score'].mean()\n",
    "accuracy_std = result['test_score'].std()\n",
    "print('Test accuracy gap: between %.2f - %.2f' % (100 * (accuracy_mean - accuracy_std), 100 * (accuracy_mean + accuracy_std)))"
   ]
  },
  {
   "cell_type": "markdown",
   "metadata": {},
   "source": [
    "> At this moment, the seed is not influencing the test score, only times are changing when run the code again"
   ]
  },
  {
   "cell_type": "markdown",
   "metadata": {},
   "source": [
    "## 2nd Class: Kfold with randomization\n",
    "\n",
    "> Date: July 01, 2020\n",
    "\n",
    "Now, we can see that your data is been better used, sharing data between train and test and using all results to do an mean of the results, what give us more accurated and reliable outcome.\n",
    "\n",
    "However, if we considerate that the data can be sorted by an caracteristic (like price, size, year etc.), maybe the result would be better if we mix before, ensuring that the result won't be influenced by anything.\n",
    "\n",
    "### Splitter Classes\n",
    "- **[KFold:](https://scikit-learn.org/stable/modules/generated/sklearn.model_selection.KFold.html)** Provides train/test indices to split data in train/test sets. Split dataset into k consecutive folds (without shuffling by default). Each fold is then used once as a validation while the k - 1 remaining folds form the training set."
   ]
  },
  {
   "cell_type": "code",
   "execution_count": 9,
   "metadata": {},
   "outputs": [],
   "source": [
    "# Create a cv with KFold (sklearn.model_selection)\n",
    "# Create a function to print results\n",
    "    # Print result, average and interval with +/- standard validation\n",
    "# Set shuffle = True"
   ]
  },
  {
   "cell_type": "code",
   "execution_count": 10,
   "metadata": {},
   "outputs": [],
   "source": [
    "def print_results(result):\n",
    "    print('Raw result: ', result)\n",
    "    print('\\n----------------------------------------------------------------------------\\nTest Score mean: %.2f%% ' % (result['test_score'].mean() * 100))\n",
    "    accuracy_mean = result['test_score'].mean()\n",
    "    accuracy_std = result['test_score'].std()\n",
    "    print('Test accuracy gap: [%.2f%% - %.2f%%]' % (100 * (accuracy_mean - accuracy_std), 100 * (accuracy_mean + accuracy_std)))"
   ]
  },
  {
   "cell_type": "code",
   "execution_count": 11,
   "metadata": {},
   "outputs": [
    {
     "name": "stdout",
     "output_type": "stream",
     "text": [
      "Raw result:  {'fit_time': array([0.01272964, 0.01140523, 0.00732541, 0.00848174, 0.00723028,\n",
      "       0.01016068, 0.00797486, 0.00737405, 0.00907803, 0.00717688]), 'score_time': array([0.00192785, 0.00246143, 0.00124002, 0.00130987, 0.00119352,\n",
      "       0.00124478, 0.00138068, 0.00116658, 0.0014112 , 0.00154829]), 'test_score': array([0.738, 0.753, 0.766, 0.752, 0.75 , 0.783, 0.77 , 0.757, 0.748,\n",
      "       0.761])}\n",
      "\n",
      "----------------------------------------------------------------------------\n",
      "Test Score mean: 75.78% \n",
      "Test accuracy gap: [74.57% - 76.99%]\n"
     ]
    }
   ],
   "source": [
    "from sklearn.model_selection import KFold\n",
    "SEED = 20\n",
    "cross_val = KFold(n_splits = 10, shuffle = True, random_state = SEED)\n",
    "result = cross_validate(tree_model, x, y, cv = cross_val)\n",
    "print_results(result)"
   ]
  },
  {
   "cell_type": "markdown",
   "metadata": {},
   "source": [
    "## 3rd Class: Stratification\n",
    "\n",
    "> Date: July 01, 2020\n",
    "\n",
    "Considering the same situation cited above, we can have a problem with something like all the data of a given state is into the train split and all the data with another characteristic in test, for example.\n",
    "\n",
    "Therefore, we'll run a simulation of this situation to verify what happens with our classifier in this case. \n",
    "\n",
    "**[Stratified KFold](https://scikit-learn.org/stable/modules/generated/sklearn.model_selection.StratifiedKFold.html#sklearn.model_selection.StratifiedKFold):** A splitter class that balance/stratify the data to train and test."
   ]
  },
  {
   "cell_type": "code",
   "execution_count": 12,
   "metadata": {},
   "outputs": [
    {
     "data": {
      "text/html": [
       "<div>\n",
       "<style scoped>\n",
       "    .dataframe tbody tr th:only-of-type {\n",
       "        vertical-align: middle;\n",
       "    }\n",
       "\n",
       "    .dataframe tbody tr th {\n",
       "        vertical-align: top;\n",
       "    }\n",
       "\n",
       "    .dataframe thead th {\n",
       "        text-align: right;\n",
       "    }\n",
       "</style>\n",
       "<table border=\"1\" class=\"dataframe\">\n",
       "  <thead>\n",
       "    <tr style=\"text-align: right;\">\n",
       "      <th></th>\n",
       "      <th>model_year</th>\n",
       "      <th>price</th>\n",
       "      <th>sold</th>\n",
       "      <th>model_age</th>\n",
       "      <th>km_per_year</th>\n",
       "    </tr>\n",
       "  </thead>\n",
       "  <tbody>\n",
       "    <tr>\n",
       "      <td>4999</td>\n",
       "      <td>2006</td>\n",
       "      <td>74023.29</td>\n",
       "      <td>0</td>\n",
       "      <td>14</td>\n",
       "      <td>24812.80412</td>\n",
       "    </tr>\n",
       "    <tr>\n",
       "      <td>5322</td>\n",
       "      <td>2005</td>\n",
       "      <td>84843.49</td>\n",
       "      <td>0</td>\n",
       "      <td>15</td>\n",
       "      <td>23095.63834</td>\n",
       "    </tr>\n",
       "    <tr>\n",
       "      <td>5319</td>\n",
       "      <td>1999</td>\n",
       "      <td>83100.27</td>\n",
       "      <td>0</td>\n",
       "      <td>21</td>\n",
       "      <td>36240.72746</td>\n",
       "    </tr>\n",
       "    <tr>\n",
       "      <td>5316</td>\n",
       "      <td>2002</td>\n",
       "      <td>87932.13</td>\n",
       "      <td>0</td>\n",
       "      <td>18</td>\n",
       "      <td>32249.56426</td>\n",
       "    </tr>\n",
       "    <tr>\n",
       "      <td>5315</td>\n",
       "      <td>2003</td>\n",
       "      <td>77937.01</td>\n",
       "      <td>0</td>\n",
       "      <td>17</td>\n",
       "      <td>28414.50704</td>\n",
       "    </tr>\n",
       "  </tbody>\n",
       "</table>\n",
       "</div>"
      ],
      "text/plain": [
       "      model_year     price  sold  model_age  km_per_year\n",
       "4999        2006  74023.29     0         14  24812.80412\n",
       "5322        2005  84843.49     0         15  23095.63834\n",
       "5319        1999  83100.27     0         21  36240.72746\n",
       "5316        2002  87932.13     0         18  32249.56426\n",
       "5315        2003  77937.01     0         17  28414.50704"
      ]
     },
     "execution_count": 12,
     "metadata": {},
     "output_type": "execute_result"
    }
   ],
   "source": [
    "sorted_data = data.sort_values('sold')\n",
    "sorted_data.head()"
   ]
  },
  {
   "cell_type": "code",
   "execution_count": 13,
   "metadata": {},
   "outputs": [],
   "source": [
    "x = sorted_data[['model_age', 'price', 'km_per_year']]\n",
    "y = sorted_data['sold']"
   ]
  },
  {
   "cell_type": "markdown",
   "metadata": {},
   "source": [
    "### 1. With KFold, without shuffle"
   ]
  },
  {
   "cell_type": "code",
   "execution_count": 14,
   "metadata": {},
   "outputs": [
    {
     "name": "stdout",
     "output_type": "stream",
     "text": [
      "Raw result:  {'fit_time': array([0.01356483, 0.0070827 , 0.00846028, 0.00744915, 0.00883794,\n",
      "       0.00843406, 0.00711441, 0.0089643 , 0.00737357, 0.00707555]), 'score_time': array([0.00158954, 0.00141311, 0.00155973, 0.00190592, 0.00130105,\n",
      "       0.00137639, 0.00128675, 0.00166392, 0.00261331, 0.00123048]), 'test_score': array([0.447, 0.409, 0.438, 0.446, 0.694, 0.663, 0.668, 0.673, 0.67 ,\n",
      "       0.676])}\n",
      "\n",
      "----------------------------------------------------------------------------\n",
      "Test Score mean: 57.84% \n",
      "Test accuracy gap: [46.07% - 69.61%]\n"
     ]
    }
   ],
   "source": [
    "cross_val = KFold(n_splits = 10, shuffle = False, random_state = SEED)\n",
    "result = cross_validate(tree_model, x, y, cv = cross_val)\n",
    "print_results(result)"
   ]
  },
  {
   "cell_type": "markdown",
   "metadata": {},
   "source": [
    "### 2. With KFold and shuffle"
   ]
  },
  {
   "cell_type": "code",
   "execution_count": 15,
   "metadata": {},
   "outputs": [
    {
     "name": "stdout",
     "output_type": "stream",
     "text": [
      "Raw result:  {'fit_time': array([0.00915146, 0.01149654, 0.00948882, 0.00792027, 0.00753403,\n",
      "       0.00803781, 0.00708985, 0.00875521, 0.00770593, 0.01051641]), 'score_time': array([0.00422263, 0.00169539, 0.00112438, 0.00137234, 0.00121784,\n",
      "       0.00133991, 0.00120234, 0.00124955, 0.00219631, 0.00112295]), 'test_score': array([0.749, 0.785, 0.749, 0.761, 0.757, 0.763, 0.758, 0.743, 0.761,\n",
      "       0.752])}\n",
      "\n",
      "----------------------------------------------------------------------------\n",
      "Test Score mean: 75.78% \n",
      "Test accuracy gap: [74.69% - 76.87%]\n"
     ]
    }
   ],
   "source": [
    "cross_val = KFold(n_splits = 10, shuffle = True, random_state = SEED)\n",
    "result = cross_validate(tree_model, x, y, cv = cross_val)\n",
    "print_results(result)"
   ]
  },
  {
   "cell_type": "markdown",
   "metadata": {},
   "source": [
    "### 3. With Stratified KFold and without shuffle"
   ]
  },
  {
   "cell_type": "code",
   "execution_count": 16,
   "metadata": {},
   "outputs": [
    {
     "name": "stdout",
     "output_type": "stream",
     "text": [
      "Raw result:  {'fit_time': array([0.01151586, 0.00899553, 0.00765443, 0.01240277, 0.01059175,\n",
      "       0.00798893, 0.00747681, 0.00837541, 0.00732684, 0.0089488 ]), 'score_time': array([0.00137401, 0.00151801, 0.00199819, 0.00136805, 0.0013535 ,\n",
      "       0.00319219, 0.00129104, 0.00129771, 0.00153136, 0.00115895]), 'test_score': array([0.744, 0.759, 0.763, 0.765, 0.754, 0.742, 0.771, 0.748, 0.764,\n",
      "       0.768])}\n",
      "\n",
      "----------------------------------------------------------------------------\n",
      "Test Score mean: 75.78% \n",
      "Test accuracy gap: [74.81% - 76.75%]\n"
     ]
    }
   ],
   "source": [
    "from sklearn.model_selection import StratifiedKFold\n",
    "\n",
    "cross_val = StratifiedKFold(n_splits = 10, shuffle = False, random_state = SEED)\n",
    "result = cross_validate(tree_model, x, y, cv = cross_val)\n",
    "print_results(result)"
   ]
  },
  {
   "cell_type": "markdown",
   "metadata": {},
   "source": [
    "### 4. With Stratified KFold and shuffle"
   ]
  },
  {
   "cell_type": "code",
   "execution_count": 17,
   "metadata": {},
   "outputs": [
    {
     "name": "stdout",
     "output_type": "stream",
     "text": [
      "Raw result:  {'fit_time': array([0.01361513, 0.00874066, 0.0103271 , 0.00858355, 0.00793099,\n",
      "       0.0073328 , 0.00811601, 0.00718999, 0.00902438, 0.00750923]), 'score_time': array([0.00278401, 0.00342345, 0.00167155, 0.00112176, 0.00130582,\n",
      "       0.00121593, 0.0012939 , 0.00115418, 0.00155902, 0.00197148]), 'test_score': array([0.759, 0.731, 0.761, 0.76 , 0.757, 0.764, 0.767, 0.75 , 0.753,\n",
      "       0.776])}\n",
      "\n",
      "----------------------------------------------------------------------------\n",
      "Test Score mean: 75.78% \n",
      "Test accuracy gap: [74.65% - 76.91%]\n"
     ]
    }
   ],
   "source": [
    "cross_val = StratifiedKFold(n_splits = 10, shuffle = True, random_state = SEED)\n",
    "result = cross_validate(tree_model, x, y, cv = cross_val)\n",
    "print_results(result)"
   ]
  },
  {
   "cell_type": "markdown",
   "metadata": {},
   "source": [
    "### With these tests, we can conclude that:\n",
    "\n",
    "- The shuffle is very important when there isn't any way to mix the data\n",
    "\n",
    "- The KFold with shuffle makes a good job in this case and, if the coder prefer, appears that it wouldn't make much difference in the results\n",
    "\n",
    "- The stratification is very good to balance/equilibrate data, mainly when we have so much data of one case and least of other."
   ]
  },
  {
   "cell_type": "code",
   "execution_count": 18,
   "metadata": {},
   "outputs": [
    {
     "name": "stdout",
     "output_type": "stream",
     "text": [
      "Quantity of sold cars: 5800\n",
      "Quantity of not sold cars: 4200\n"
     ]
    }
   ],
   "source": [
    "sold_1 = len(data.query('sold == 1'))\n",
    "sold_0 = len(data.query('sold == 0'))\n",
    "\n",
    "print('Quantity of sold cars: %d' % sold_1)\n",
    "print('Quantity of not sold cars: %d' % sold_0)"
   ]
  },
  {
   "cell_type": "markdown",
   "metadata": {},
   "source": [
    "## 4th Class: Groupable data\n",
    "\n",
    "> Date: July 02, 2020\n",
    "\n",
    "Now, thinking about the solution of this project, we have to consent that, if we want a useful algorithm, we have to be able to add new cars or users or anything to our dataset, right? moreover, we have to be able to apply your model in new cases, because this is our main target, making a code really useful in the real world. "
   ]
  },
  {
   "cell_type": "code",
   "execution_count": 39,
   "metadata": {},
   "outputs": [],
   "source": [
    "# Create a random column into a range between [-2, 3] and sum that with the model age\n",
    "# Place this column into the dataframe \n",
    "# Verify if there is any value less than 0 and modify to be greater than 0"
   ]
  },
  {
   "cell_type": "code",
   "execution_count": 40,
   "metadata": {},
   "outputs": [
    {
     "data": {
      "text/html": [
       "<div>\n",
       "<style scoped>\n",
       "    .dataframe tbody tr th:only-of-type {\n",
       "        vertical-align: middle;\n",
       "    }\n",
       "\n",
       "    .dataframe tbody tr th {\n",
       "        vertical-align: top;\n",
       "    }\n",
       "\n",
       "    .dataframe thead th {\n",
       "        text-align: right;\n",
       "    }\n",
       "</style>\n",
       "<table border=\"1\" class=\"dataframe\">\n",
       "  <thead>\n",
       "    <tr style=\"text-align: right;\">\n",
       "      <th></th>\n",
       "      <th>model_year</th>\n",
       "      <th>price</th>\n",
       "      <th>sold</th>\n",
       "      <th>model_age</th>\n",
       "      <th>km_per_year</th>\n",
       "      <th>random_model</th>\n",
       "    </tr>\n",
       "  </thead>\n",
       "  <tbody>\n",
       "    <tr>\n",
       "      <td>0</td>\n",
       "      <td>2000</td>\n",
       "      <td>30941.02</td>\n",
       "      <td>1</td>\n",
       "      <td>20</td>\n",
       "      <td>35085.22134</td>\n",
       "      <td>21</td>\n",
       "    </tr>\n",
       "    <tr>\n",
       "      <td>1</td>\n",
       "      <td>1998</td>\n",
       "      <td>40557.96</td>\n",
       "      <td>1</td>\n",
       "      <td>22</td>\n",
       "      <td>12622.05362</td>\n",
       "      <td>22</td>\n",
       "    </tr>\n",
       "    <tr>\n",
       "      <td>2</td>\n",
       "      <td>2006</td>\n",
       "      <td>89627.50</td>\n",
       "      <td>0</td>\n",
       "      <td>14</td>\n",
       "      <td>11440.79806</td>\n",
       "      <td>16</td>\n",
       "    </tr>\n",
       "    <tr>\n",
       "      <td>3</td>\n",
       "      <td>2015</td>\n",
       "      <td>95276.14</td>\n",
       "      <td>0</td>\n",
       "      <td>5</td>\n",
       "      <td>43167.32682</td>\n",
       "      <td>5</td>\n",
       "    </tr>\n",
       "    <tr>\n",
       "      <td>4</td>\n",
       "      <td>2014</td>\n",
       "      <td>117384.68</td>\n",
       "      <td>1</td>\n",
       "      <td>6</td>\n",
       "      <td>12770.11290</td>\n",
       "      <td>5</td>\n",
       "    </tr>\n",
       "  </tbody>\n",
       "</table>\n",
       "</div>"
      ],
      "text/plain": [
       "   model_year      price  sold  model_age  km_per_year  random_model\n",
       "0        2000   30941.02     1         20  35085.22134            21\n",
       "1        1998   40557.96     1         22  12622.05362            22\n",
       "2        2006   89627.50     0         14  11440.79806            16\n",
       "3        2015   95276.14     0          5  43167.32682             5\n",
       "4        2014  117384.68     1          6  12770.11290             5"
      ]
     },
     "execution_count": 40,
     "metadata": {},
     "output_type": "execute_result"
    }
   ],
   "source": [
    "np.random.seed(SEED)\n",
    "random_model = np.random.randint(-2, 3, size = len(data))\n",
    "data['random_model'] = random_model + data['model_age']\n",
    "data.head()"
   ]
  },
  {
   "cell_type": "code",
   "execution_count": 52,
   "metadata": {},
   "outputs": [
    {
     "name": "stdout",
     "output_type": "stream",
     "text": [
      "[ 1  2  3  4  5  6  7  8  9 10 11 12 13 14 15 16 17 18 19 20 21 22 23 24]\n",
      "20    895\n",
      "19    817\n",
      "18    771\n",
      "21    706\n",
      "16    692\n",
      "17    691\n",
      "15    659\n",
      "14    588\n",
      "22    559\n",
      "13    554\n",
      "12    470\n",
      "11    414\n",
      "10    379\n",
      "23    370\n",
      "9     339\n",
      "8     280\n",
      "7     205\n",
      "24    182\n",
      "6     164\n",
      "5     112\n",
      "4      81\n",
      "3      49\n",
      "2      16\n",
      "1       7\n",
      "Name: random_model, dtype: int64\n"
     ]
    }
   ],
   "source": [
    "print(np.sort(data['random_model'].unique()))\n",
    "print(data['random_model'].value_counts())"
   ]
  },
  {
   "cell_type": "markdown",
   "metadata": {},
   "source": [
    "- Now, we have to make a model that can agroup the data of tran and test according to the model. Going to the sklearn documentation, we can see the [GroupKFold](https://scikit-learn.org/stable/modules/generated/sklearn.model_selection.GroupKFold.html), that is completely able to do this task."
   ]
  },
  {
   "cell_type": "code",
   "execution_count": 55,
   "metadata": {},
   "outputs": [
    {
     "name": "stdout",
     "output_type": "stream",
     "text": [
      "Raw result:  {'fit_time': array([0.00990844, 0.01103616, 0.00945783, 0.00997758, 0.00875545,\n",
      "       0.00674415, 0.00709558, 0.00687957, 0.00694609, 0.00699949]), 'score_time': array([0.00158811, 0.00230002, 0.0042026 , 0.00132871, 0.0013175 ,\n",
      "       0.00132084, 0.00108743, 0.00131655, 0.00114965, 0.00119781]), 'test_score': array([0.76961271, 0.76860347, 0.76646707, 0.74596774, 0.7671093 ,\n",
      "       0.75145631, 0.75218659, 0.73041709, 0.75231244, 0.7734375 ])}\n",
      "\n",
      "----------------------------------------------------------------------------\n",
      "Test Score mean: 75.78% \n",
      "Test accuracy gap: [74.49% - 77.06%]\n"
     ]
    }
   ],
   "source": [
    "from sklearn.model_selection import GroupKFold\n",
    "\n",
    "cross_val = GroupKFold(n_splits = 10)\n",
    "result = cross_validate(tree_model, x, y, cv = cross_val, groups = data.random_model)\n",
    "print_results(result)"
   ]
  },
  {
   "cell_type": "code",
   "execution_count": null,
   "metadata": {},
   "outputs": [],
   "source": []
  }
 ],
 "metadata": {
  "kernelspec": {
   "display_name": "Python 3",
   "language": "python3",
   "name": "python3"
  },
  "language_info": {
   "codemirror_mode": {
    "name": "ipython",
    "version": 3
   },
   "file_extension": ".py",
   "mimetype": "text/x-python",
   "name": "python",
   "nbconvert_exporter": "python",
   "pygments_lexer": "ipython3",
   "version": "3.7.4"
  }
 },
 "nbformat": 4,
 "nbformat_minor": 2
}
