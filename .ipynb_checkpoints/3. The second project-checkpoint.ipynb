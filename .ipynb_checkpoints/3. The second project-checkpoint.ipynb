{
 "cells": [
  {
   "cell_type": "code",
   "execution_count": 1,
   "metadata": {},
   "outputs": [],
   "source": [
    "# The 2nd Project\n",
    "# Date: 12-03-2020\n",
    "# Reading internet data and manupulating them. "
   ]
  },
  {
   "cell_type": "code",
   "execution_count": 2,
   "metadata": {},
   "outputs": [],
   "source": [
    "# pandas library will be used to read the .csv file\n",
    "import pandas as pd"
   ]
  },
  {
   "cell_type": "code",
   "execution_count": 8,
   "metadata": {},
   "outputs": [
    {
     "data": {
      "text/html": [
       "<div>\n",
       "<style scoped>\n",
       "    .dataframe tbody tr th:only-of-type {\n",
       "        vertical-align: middle;\n",
       "    }\n",
       "\n",
       "    .dataframe tbody tr th {\n",
       "        vertical-align: top;\n",
       "    }\n",
       "\n",
       "    .dataframe thead th {\n",
       "        text-align: right;\n",
       "    }\n",
       "</style>\n",
       "<table border=\"1\" class=\"dataframe\">\n",
       "  <thead>\n",
       "    <tr style=\"text-align: right;\">\n",
       "      <th></th>\n",
       "      <th>home</th>\n",
       "      <th>how_it_works</th>\n",
       "      <th>contact</th>\n",
       "      <th>bought</th>\n",
       "    </tr>\n",
       "  </thead>\n",
       "  <tbody>\n",
       "    <tr>\n",
       "      <td>0</td>\n",
       "      <td>1</td>\n",
       "      <td>1</td>\n",
       "      <td>0</td>\n",
       "      <td>0</td>\n",
       "    </tr>\n",
       "    <tr>\n",
       "      <td>1</td>\n",
       "      <td>1</td>\n",
       "      <td>1</td>\n",
       "      <td>0</td>\n",
       "      <td>0</td>\n",
       "    </tr>\n",
       "    <tr>\n",
       "      <td>2</td>\n",
       "      <td>1</td>\n",
       "      <td>1</td>\n",
       "      <td>0</td>\n",
       "      <td>0</td>\n",
       "    </tr>\n",
       "    <tr>\n",
       "      <td>3</td>\n",
       "      <td>1</td>\n",
       "      <td>1</td>\n",
       "      <td>0</td>\n",
       "      <td>0</td>\n",
       "    </tr>\n",
       "    <tr>\n",
       "      <td>4</td>\n",
       "      <td>1</td>\n",
       "      <td>1</td>\n",
       "      <td>0</td>\n",
       "      <td>0</td>\n",
       "    </tr>\n",
       "  </tbody>\n",
       "</table>\n",
       "</div>"
      ],
      "text/plain": [
       "   home  how_it_works  contact  bought\n",
       "0     1             1        0       0\n",
       "1     1             1        0       0\n",
       "2     1             1        0       0\n",
       "3     1             1        0       0\n",
       "4     1             1        0       0"
      ]
     },
     "execution_count": 8,
     "metadata": {},
     "output_type": "execute_result"
    }
   ],
   "source": [
    "uri = \"https://gist.githubusercontent.com/guilhermesilveira/2d2efa37d66b6c84a722ea627a897ced/raw/10968b997d885cbded1c92938c7a9912ba41c615/tracking.csv\"\n",
    "data = pd.read_csv(uri)\n",
    "data.head() # only the first 5 rows"
   ]
  },
  {
   "cell_type": "code",
   "execution_count": 20,
   "metadata": {},
   "outputs": [],
   "source": [
    "x = data[[\"home\", \"how_it_works\", \"contact\"]] # only this 3 columns, ignoring the others\n",
    "y = data[\"bought\"] # The result "
   ]
  },
  {
   "cell_type": "code",
   "execution_count": 21,
   "metadata": {},
   "outputs": [],
   "source": [
    "# If you want use the features in brazilian portuguese, uncomment the lines below\n",
    "# words_map = {\n",
    "#     \"home\"         :     \"principal\",\n",
    "#     \"how_it_works\" : \"como_funciona\",\n",
    "#     \"contact\"      :       \"contato\",\n",
    "#     \"bought\"       :       \"comprou\"    \n",
    "# }\n",
    "\n",
    "# After compile with it uncommented, we can only use this words, the words used before work no more\n"
   ]
  },
  {
   "cell_type": "code",
   "execution_count": 25,
   "metadata": {},
   "outputs": [
    {
     "name": "stdout",
     "output_type": "stream",
     "text": [
      "Doing it, we train with 75 samples and test with 24 samples\n"
     ]
    }
   ],
   "source": [
    "data.shape # The format and size of the datas\n",
    "train_x = x[:75]\n",
    "train_y = y[:75]\n",
    "\n",
    "test_x = x[75:]\n",
    "test_y = y[75:]\n",
    "print(\"Doing it, we train with %d samples and test with %d samples\" % (len(train_x), len(test_x)))"
   ]
  },
  {
   "cell_type": "code",
   "execution_count": 48,
   "metadata": {},
   "outputs": [
    {
     "name": "stdout",
     "output_type": "stream",
     "text": [
      "There are 95.83% correct predictions.\n"
     ]
    }
   ],
   "source": [
    "# Import library\n",
    "from sklearn.svm import LinearSVC\n",
    "\n",
    "# Define the model\n",
    "model = LinearSVC()\n",
    "model.fit(train_x, train_y)\n",
    "\n",
    "# Predict the result\n",
    "predictions = model.predict(test_x)\n",
    "\n",
    "# Define important sizes/length \n",
    "total = len(test_x)\n",
    "result = predictions == test_y\n",
    "\n",
    "# Print the result\n",
    "print(\"There are %.2f%% correct predictions.\" % (result.sum()*100/total))\n",
    "\n",
    "# Using the ready function (same result):\n",
    "# from sklearn.metrics import accuracy_score\n",
    "\n",
    "# accuracy = accuracy_score(test_y, predictions)\n",
    "# print(\"The accuracy of the test was %.2f%%.\" % (accuracy*100))"
   ]
  },
  {
   "cell_type": "code",
   "execution_count": 62,
   "metadata": {},
   "outputs": [
    {
     "name": "stdout",
     "output_type": "stream",
     "text": [
      "The accuracy of the test was 100.00%.\n"
     ]
    }
   ],
   "source": [
    "# Using other functions of the sklearn library:\n",
    "from sklearn.model_selection import train_test_split\n",
    "\n",
    "# This method let we separate the train of the test automatically without move arrays or other datas structures directly \n",
    "# Doing it the choose of who'll be train or test is random\n",
    "train_x, test_x, train_y, test_y = train_test_split(x, y, test_size = 0.25)\n",
    "\n",
    "# print(len(train_x), len(test_x))\n",
    "\n",
    "# Doing the steps one more time:\n",
    "# Define the model\n",
    "model = LinearSVC()\n",
    "model.fit(train_x, train_y)\n",
    "\n",
    "# Predict the result\n",
    "predictions = model.predict(test_x)\n",
    "\n",
    "# Using the ready function (same result):\n",
    "from sklearn.metrics import accuracy_score\n",
    "\n",
    "accuracy = accuracy_score(test_y, predictions)\n",
    "print(\"The accuracy of the test was %.2f%%.\" % (accuracy*100))"
   ]
  },
  {
   "cell_type": "code",
   "execution_count": 83,
   "metadata": {},
   "outputs": [
    {
     "name": "stdout",
     "output_type": "stream",
     "text": [
      "Number of train samples with each value:\n",
      "0    47\n",
      "1    27\n",
      "Name: bought, dtype: int64\n",
      "Number of test samples with each value:\n",
      "0    19\n",
      "1     6\n",
      "Name: bought, dtype: int64\n",
      "Number of train samples with each value (using stratify):\n",
      "0    49\n",
      "1    25\n",
      "Name: bought, dtype: int64\n",
      "Number of test samples with each value (using stratify):\n",
      "0    17\n",
      "1     8\n",
      "Name: bought, dtype: int64\n"
     ]
    }
   ],
   "source": [
    "# To make the choice less random:\n",
    "SEED = 20\n",
    "train_x, test_x, train_y, test_y = train_test_split(x, y, random_state = SEED, test_size = 0.25)\n",
    "\n",
    "print(\"Number of train samples with each value:\")\n",
    "print(train_y.value_counts())\n",
    "\n",
    "print(\"Number of test samples with each value:\")\n",
    "print(test_y.value_counts())\n",
    "\n",
    "# To separate samples proportionally to y:\n",
    "train_x, test_x, train_y, test_y = train_test_split(x, y, random_state = SEED, test_size = 0.25, stratify = y)\n",
    "\n",
    "print(\"Number of train samples with each value (using stratify):\")\n",
    "print(train_y.value_counts())\n",
    "\n",
    "print(\"Number of test samples with each value (using stratify):\")\n",
    "print(test_y.value_counts())"
   ]
  }
 ],
 "metadata": {
  "kernelspec": {
   "display_name": "Python 3",
   "language": "python3",
   "name": "python3"
  },
  "language_info": {
   "codemirror_mode": {
    "name": "ipython",
    "version": 3
   },
   "file_extension": ".py",
   "mimetype": "text/x-python",
   "name": "python",
   "nbconvert_exporter": "python",
   "pygments_lexer": "ipython3",
   "version": "3.7.4"
  }
 },
 "nbformat": 4,
 "nbformat_minor": 2
}
