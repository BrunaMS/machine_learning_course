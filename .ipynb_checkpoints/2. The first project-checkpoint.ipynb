{
 "cells": [
  {
   "cell_type": "code",
   "execution_count": 1,
   "metadata": {},
   "outputs": [],
   "source": [
    "# Classification: Pig or dog?\n",
    "# Date: 26-02-2020\n",
    "# This estimator is binary: 1 - Pig and 0 - Dog\n",
    "# Classifier based in three features/characteristics:\n",
    "#    1. Hair\n",
    "#    2. Short leg\n",
    "#    3. If it barks\n",
    "# Accuracy - Hit rate\n",
    "# Steps:\n",
    "#     1. Features (1-Yes;0-No)\n",
    "#     2. Items\n",
    "#     3. Estimator training\n",
    "#     4. Tests\n",
    "#     5. Classification Accuracy\n",
    "#     6. Otimization\n",
    "#     7. Forecast"
   ]
  },
  {
   "cell_type": "code",
   "execution_count": 2,
   "metadata": {},
   "outputs": [
    {
     "name": "stdout",
     "output_type": "stream",
     "text": [
      "[[0, 1, 0], [0, 1, 1], [1, 1, 0]]\n",
      "[[0, 1, 1], [1, 0, 1], [1, 1, 1]]\n"
     ]
    }
   ],
   "source": [
    "# Features: [hair, short legs, bark]\n",
    "pig1 = [0, 1, 0]\n",
    "pig2 = [0, 1, 1]\n",
    "pig3 = [1, 1, 0]\n",
    "pigs = [pig1, pig2, pig3]\n",
    "print(pigs)\n",
    "\n",
    "\n",
    "dog1 = [0, 1, 1]\n",
    "dog2 = [1, 0, 1]\n",
    "dog3 = [1, 1, 1]\n",
    "dogs = [dog1, dog2, dog3]\n",
    "print(dogs)"
   ]
  },
  {
   "cell_type": "code",
   "execution_count": 3,
   "metadata": {},
   "outputs": [],
   "source": [
    "# 1 - Pig; 0 - Dog\n",
    "train_x = [pig1, pig2, pig3, dog1, dog2, dog3]\n",
    "train_y = [1, 1, 1, 0, 0, 0] # Labels\n",
    "# Library used: sklearn "
   ]
  },
  {
   "cell_type": "code",
   "execution_count": 4,
   "metadata": {},
   "outputs": [
    {
     "data": {
      "text/plain": [
       "LinearSVC(C=1.0, class_weight=None, dual=True, fit_intercept=True,\n",
       "          intercept_scaling=1, loss='squared_hinge', max_iter=1000,\n",
       "          multi_class='ovr', penalty='l2', random_state=None, tol=0.0001,\n",
       "          verbose=0)"
      ]
     },
     "execution_count": 4,
     "metadata": {},
     "output_type": "execute_result"
    }
   ],
   "source": [
    "from sklearn.svm import LinearSVC\n",
    "\n",
    "model = LinearSVC()\n",
    "model.fit(train_x, train_y) # training using the examples that we created. "
   ]
  },
  {
   "cell_type": "code",
   "execution_count": 5,
   "metadata": {},
   "outputs": [
    {
     "data": {
      "text/plain": [
       "array([0])"
      ]
     },
     "execution_count": 5,
     "metadata": {},
     "output_type": "execute_result"
    }
   ],
   "source": [
    "# Testing\n",
    "animal_test = [1, 1, 1]\n",
    "model.predict([animal_test])\n",
    "# The model \"thing\" or predicted that this animal is a dog"
   ]
  },
  {
   "cell_type": "code",
   "execution_count": 7,
   "metadata": {},
   "outputs": [],
   "source": [
    "test1 = [1, 1, 1]\n",
    "test2 = [1, 1, 0]\n",
    "test3 = [0, 1, 1]\n",
    "tests_x = [test1, test2, test3]\n",
    "predictions = model.predict(tests_x)"
   ]
  },
  {
   "cell_type": "code",
   "execution_count": 8,
   "metadata": {},
   "outputs": [
    {
     "name": "stdout",
     "output_type": "stream",
     "text": [
      "Accuracy (using my code) = 66.67%\n"
     ]
    }
   ],
   "source": [
    "# Making a Classification Accuracy\n",
    "tests_y = [0, 1, 1]\n",
    "result = predictions == tests_y # Show what is right and what is wrong\n",
    "total = len(tests_y)\n",
    "print((\"Accuracy (using my code) = %.2f%%\") %(result.sum()/total * 100))"
   ]
  },
  {
   "cell_type": "code",
   "execution_count": 9,
   "metadata": {},
   "outputs": [
    {
     "name": "stdout",
     "output_type": "stream",
     "text": [
      "Accuracy (using the library) = 66.67%\n"
     ]
    }
   ],
   "source": [
    "# Using the library \n",
    "from sklearn.metrics import accuracy_score\n",
    "accuracy = accuracy_score(tests_y, predictions)\n",
    "print((\"Accuracy (using the library) = %.2f%%\") %(accuracy*100))"
   ]
  }
 ],
 "metadata": {
  "kernelspec": {
   "display_name": "Python 3",
   "language": "python3",
   "name": "python3"
  },
  "language_info": {
   "codemirror_mode": {
    "name": "ipython",
    "version": 3
   },
   "file_extension": ".py",
   "mimetype": "text/x-python",
   "name": "python",
   "nbconvert_exporter": "python",
   "pygments_lexer": "ipython3",
   "version": "3.7.4"
  }
 },
 "nbformat": 4,
 "nbformat_minor": 4
}
